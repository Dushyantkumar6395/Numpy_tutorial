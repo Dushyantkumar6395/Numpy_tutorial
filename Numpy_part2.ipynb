{
 "cells": [
  {
   "cell_type": "code",
   "execution_count": 1,
   "id": "359c57c4-33f0-41c4-8817-e5a457654058",
   "metadata": {},
   "outputs": [],
   "source": [
    "# Numpy - Array Manipulation"
   ]
  },
  {
   "cell_type": "code",
   "execution_count": 2,
   "id": "608196b4-561b-47d9-9b2b-c84dc67b9c54",
   "metadata": {},
   "outputs": [],
   "source": [
    "import numpy as np"
   ]
  },
  {
   "cell_type": "code",
   "execution_count": 3,
   "id": "714524d5-3230-4fbd-aac6-ece0cb3dfbc7",
   "metadata": {},
   "outputs": [],
   "source": [
    "arr = np.random.randint(1,10,(3,4))"
   ]
  },
  {
   "cell_type": "code",
   "execution_count": 4,
   "id": "64a084e7-fe23-4d45-babb-28e3de32d082",
   "metadata": {},
   "outputs": [
    {
     "data": {
      "text/plain": [
       "array([[4, 8, 9, 6],\n",
       "       [2, 8, 8, 7],\n",
       "       [1, 6, 3, 7]])"
      ]
     },
     "execution_count": 4,
     "metadata": {},
     "output_type": "execute_result"
    }
   ],
   "source": [
    "arr"
   ]
  },
  {
   "cell_type": "code",
   "execution_count": 5,
   "id": "df1a5831-607e-4cb0-885a-2aec181bad66",
   "metadata": {},
   "outputs": [
    {
     "data": {
      "text/plain": [
       "array([[4, 8],\n",
       "       [9, 6],\n",
       "       [2, 8],\n",
       "       [8, 7],\n",
       "       [1, 6],\n",
       "       [3, 7]])"
      ]
     },
     "execution_count": 5,
     "metadata": {},
     "output_type": "execute_result"
    }
   ],
   "source": [
    "arr.reshape(6,2)"
   ]
  },
  {
   "cell_type": "code",
   "execution_count": 6,
   "id": "eaf17355-ed0e-437d-81a9-50f49374bd44",
   "metadata": {},
   "outputs": [
    {
     "data": {
      "text/plain": [
       "array([[4, 8, 9, 6, 2, 8],\n",
       "       [8, 7, 1, 6, 3, 7]])"
      ]
     },
     "execution_count": 6,
     "metadata": {},
     "output_type": "execute_result"
    }
   ],
   "source": [
    "arr.reshape(2,6)"
   ]
  },
  {
   "cell_type": "code",
   "execution_count": 7,
   "id": "21dfef3f-27a0-45dc-a998-769bd2cc7452",
   "metadata": {},
   "outputs": [
    {
     "ename": "ValueError",
     "evalue": "cannot reshape array of size 12 into shape (2,4762)",
     "output_type": "error",
     "traceback": [
      "\u001b[0;31m---------------------------------------------------------------------------\u001b[0m",
      "\u001b[0;31mValueError\u001b[0m                                Traceback (most recent call last)",
      "Cell \u001b[0;32mIn [7], line 1\u001b[0m\n\u001b[0;32m----> 1\u001b[0m \u001b[43marr\u001b[49m\u001b[38;5;241;43m.\u001b[39;49m\u001b[43mreshape\u001b[49m\u001b[43m(\u001b[49m\u001b[38;5;241;43m2\u001b[39;49m\u001b[43m,\u001b[49m\u001b[38;5;241;43m4762\u001b[39;49m\u001b[43m)\u001b[49m\n",
      "\u001b[0;31mValueError\u001b[0m: cannot reshape array of size 12 into shape (2,4762)"
     ]
    }
   ],
   "source": [
    "arr.reshape(2,4762)"
   ]
  },
  {
   "cell_type": "code",
   "execution_count": 8,
   "id": "5a6b51ca-b0e4-437d-b8b1-fdb370b50331",
   "metadata": {},
   "outputs": [
    {
     "data": {
      "text/plain": [
       "array([[4, 8, 9, 6, 2, 8],\n",
       "       [8, 7, 1, 6, 3, 7]])"
      ]
     },
     "execution_count": 8,
     "metadata": {},
     "output_type": "execute_result"
    }
   ],
   "source": [
    "arr.reshape(2,-28658623)"
   ]
  },
  {
   "cell_type": "code",
   "execution_count": 9,
   "id": "a36941ea-ef46-4f34-a267-2c3074d4879f",
   "metadata": {},
   "outputs": [
    {
     "data": {
      "text/plain": [
       "array([[4, 2, 1],\n",
       "       [8, 8, 6],\n",
       "       [9, 8, 3],\n",
       "       [6, 7, 7]])"
      ]
     },
     "execution_count": 9,
     "metadata": {},
     "output_type": "execute_result"
    }
   ],
   "source": [
    "arr.T"
   ]
  },
  {
   "cell_type": "code",
   "execution_count": 10,
   "id": "6c65556a-a47a-4511-8ba3-c72f85c4b41b",
   "metadata": {},
   "outputs": [
    {
     "data": {
      "text/plain": [
       "array([[4, 8, 9, 6],\n",
       "       [2, 8, 8, 7],\n",
       "       [1, 6, 3, 7]])"
      ]
     },
     "execution_count": 10,
     "metadata": {},
     "output_type": "execute_result"
    }
   ],
   "source": [
    "arr"
   ]
  },
  {
   "cell_type": "code",
   "execution_count": 11,
   "id": "81c19c73-cd8a-44aa-a5e0-dbd964a7b5f9",
   "metadata": {},
   "outputs": [
    {
     "data": {
      "text/plain": [
       "2"
      ]
     },
     "execution_count": 11,
     "metadata": {},
     "output_type": "execute_result"
    }
   ],
   "source": [
    "arr.ndim"
   ]
  },
  {
   "cell_type": "code",
   "execution_count": 12,
   "id": "83c1e782-5cd6-4dd3-b31c-c5a8e01ed8ff",
   "metadata": {},
   "outputs": [
    {
     "data": {
      "text/plain": [
       "array([4, 8, 9, 6, 2, 8, 8, 7, 1, 6, 3, 7])"
      ]
     },
     "execution_count": 12,
     "metadata": {},
     "output_type": "execute_result"
    }
   ],
   "source": [
    "arr.flatten()"
   ]
  },
  {
   "cell_type": "code",
   "execution_count": 15,
   "id": "6cbbb24a-2c30-4295-8cb3-150e79721862",
   "metadata": {},
   "outputs": [],
   "source": [
    "arr1 = np.array([1,2,3,3,4])"
   ]
  },
  {
   "cell_type": "code",
   "execution_count": 16,
   "id": "5a280e88-cc69-438e-81ac-1ff90ed33813",
   "metadata": {},
   "outputs": [
    {
     "data": {
      "text/plain": [
       "array([1, 2, 3, 3, 4])"
      ]
     },
     "execution_count": 16,
     "metadata": {},
     "output_type": "execute_result"
    }
   ],
   "source": [
    "arr1"
   ]
  },
  {
   "cell_type": "code",
   "execution_count": 17,
   "id": "e368bd6a-a005-41df-8e54-18403aaef264",
   "metadata": {},
   "outputs": [
    {
     "data": {
      "text/plain": [
       "1"
      ]
     },
     "execution_count": 17,
     "metadata": {},
     "output_type": "execute_result"
    }
   ],
   "source": [
    "arr1.ndim"
   ]
  },
  {
   "cell_type": "code",
   "execution_count": 18,
   "id": "cb61b572-cc46-4eaa-b1c8-8e029e08dbe6",
   "metadata": {},
   "outputs": [
    {
     "data": {
      "text/plain": [
       "array([[1],\n",
       "       [2],\n",
       "       [3],\n",
       "       [3],\n",
       "       [4]])"
      ]
     },
     "execution_count": 18,
     "metadata": {},
     "output_type": "execute_result"
    }
   ],
   "source": [
    "np.expand_dims(arr1, axis = 1)"
   ]
  },
  {
   "cell_type": "code",
   "execution_count": 19,
   "id": "cec8d48f-5925-4acf-a2f2-8a3997af11ca",
   "metadata": {},
   "outputs": [
    {
     "data": {
      "text/plain": [
       "array([[1, 2, 3, 3, 4]])"
      ]
     },
     "execution_count": 19,
     "metadata": {},
     "output_type": "execute_result"
    }
   ],
   "source": [
    "np.expand_dims(arr1, axis = 0)"
   ]
  },
  {
   "cell_type": "code",
   "execution_count": 20,
   "id": "827bc880-154e-43b6-a70e-7317c1f6b84e",
   "metadata": {},
   "outputs": [
    {
     "data": {
      "text/plain": [
       "array([[4, 8, 9, 6],\n",
       "       [2, 8, 8, 7],\n",
       "       [1, 6, 3, 7]])"
      ]
     },
     "execution_count": 20,
     "metadata": {},
     "output_type": "execute_result"
    }
   ],
   "source": [
    "arr"
   ]
  },
  {
   "cell_type": "code",
   "execution_count": 21,
   "id": "129f5c6b-c93d-47d4-ac05-2751ffc67af8",
   "metadata": {},
   "outputs": [
    {
     "data": {
      "text/plain": [
       "array([[4, 8, 9, 6],\n",
       "       [2, 8, 8, 7],\n",
       "       [1, 6, 3, 7]])"
      ]
     },
     "execution_count": 21,
     "metadata": {},
     "output_type": "execute_result"
    }
   ],
   "source": [
    "np.squeeze(arr)"
   ]
  },
  {
   "cell_type": "code",
   "execution_count": 22,
   "id": "173262bf-7b1f-4d85-afc6-f534c3dcab78",
   "metadata": {},
   "outputs": [],
   "source": [
    "data = np.array([[1] , [2] , [3]])"
   ]
  },
  {
   "cell_type": "code",
   "execution_count": 23,
   "id": "a69d068b-c182-41ff-9d30-3bce1e605026",
   "metadata": {},
   "outputs": [
    {
     "data": {
      "text/plain": [
       "array([[1],\n",
       "       [2],\n",
       "       [3]])"
      ]
     },
     "execution_count": 23,
     "metadata": {},
     "output_type": "execute_result"
    }
   ],
   "source": [
    "data"
   ]
  },
  {
   "cell_type": "code",
   "execution_count": 24,
   "id": "1d9ca7bb-9111-4c34-8497-977cda55a492",
   "metadata": {},
   "outputs": [
    {
     "data": {
      "text/plain": [
       "array([1, 2, 3])"
      ]
     },
     "execution_count": 24,
     "metadata": {},
     "output_type": "execute_result"
    }
   ],
   "source": [
    "np.squeeze(data)"
   ]
  },
  {
   "cell_type": "code",
   "execution_count": 25,
   "id": "d78b0ca1-1356-49f5-a792-7db33d27219a",
   "metadata": {},
   "outputs": [
    {
     "data": {
      "text/plain": [
       "array([1, 2, 3, 3, 4])"
      ]
     },
     "execution_count": 25,
     "metadata": {},
     "output_type": "execute_result"
    }
   ],
   "source": [
    "arr1"
   ]
  },
  {
   "cell_type": "code",
   "execution_count": 26,
   "id": "b23bf4de-70ad-455c-a883-fa8cb93272c4",
   "metadata": {},
   "outputs": [
    {
     "data": {
      "text/plain": [
       "array([1, 1, 1, 2, 2, 2, 3, 3, 3, 3, 3, 3, 4, 4, 4])"
      ]
     },
     "execution_count": 26,
     "metadata": {},
     "output_type": "execute_result"
    }
   ],
   "source": [
    "np.repeat(arr1,3)  # (array, number of repetation)"
   ]
  },
  {
   "cell_type": "code",
   "execution_count": 28,
   "id": "18e0f402-ec15-4489-833c-b5040e25f622",
   "metadata": {},
   "outputs": [
    {
     "data": {
      "text/plain": [
       "array([3, 4, 1, 2, 3])"
      ]
     },
     "execution_count": 28,
     "metadata": {},
     "output_type": "execute_result"
    }
   ],
   "source": [
    "np.roll(arr1 , 2)"
   ]
  },
  {
   "cell_type": "code",
   "execution_count": 29,
   "id": "dda542f4-557c-44b5-89f9-d41467ce340e",
   "metadata": {},
   "outputs": [
    {
     "data": {
      "text/plain": [
       "array([1, 2, 3, 3, 4])"
      ]
     },
     "execution_count": 29,
     "metadata": {},
     "output_type": "execute_result"
    }
   ],
   "source": [
    "arr1"
   ]
  },
  {
   "cell_type": "code",
   "execution_count": 30,
   "id": "326b884e-872c-4626-8214-ed6291a6a458",
   "metadata": {},
   "outputs": [
    {
     "data": {
      "text/plain": [
       "array([4, 1, 2, 3, 3])"
      ]
     },
     "execution_count": 30,
     "metadata": {},
     "output_type": "execute_result"
    }
   ],
   "source": [
    "np.roll(arr1 , 1)"
   ]
  },
  {
   "cell_type": "code",
   "execution_count": 31,
   "id": "00c9762a-461a-4bf0-a5c6-c8beeb4a3219",
   "metadata": {},
   "outputs": [
    {
     "data": {
      "text/plain": [
       "array([[1, 0, 0, 0, 0],\n",
       "       [0, 2, 0, 0, 0],\n",
       "       [0, 0, 3, 0, 0],\n",
       "       [0, 0, 0, 3, 0],\n",
       "       [0, 0, 0, 0, 4]])"
      ]
     },
     "execution_count": 31,
     "metadata": {},
     "output_type": "execute_result"
    }
   ],
   "source": [
    "np.diag(arr1)"
   ]
  },
  {
   "cell_type": "code",
   "execution_count": 32,
   "id": "96c68084-8bc8-4be9-95bf-7cce9dfef75c",
   "metadata": {},
   "outputs": [],
   "source": [
    "# Numpy - Binary Operations."
   ]
  },
  {
   "cell_type": "code",
   "execution_count": 35,
   "id": "7820408b-0c08-4f9f-b1a6-94de34efccca",
   "metadata": {},
   "outputs": [],
   "source": [
    "arr1 = np.random.randint(1,10,(3,4))\n",
    "arr2 = np.random.randint(1,10,(3,4))"
   ]
  },
  {
   "cell_type": "code",
   "execution_count": 45,
   "id": "5b2cd099-dc11-46a4-8a51-db96ae86b8b2",
   "metadata": {},
   "outputs": [
    {
     "data": {
      "text/plain": [
       "array([[1, 9, 2, 3],\n",
       "       [7, 6, 3, 4],\n",
       "       [2, 1, 8, 5]])"
      ]
     },
     "execution_count": 45,
     "metadata": {},
     "output_type": "execute_result"
    }
   ],
   "source": [
    "arr1"
   ]
  },
  {
   "cell_type": "code",
   "execution_count": 46,
   "id": "27112ec3-a3c6-4bf2-90cd-8cd0ef886370",
   "metadata": {},
   "outputs": [
    {
     "data": {
      "text/plain": [
       "array([[4, 5, 1, 4],\n",
       "       [8, 7, 7, 6],\n",
       "       [9, 5, 2, 3]])"
      ]
     },
     "execution_count": 46,
     "metadata": {},
     "output_type": "execute_result"
    }
   ],
   "source": [
    "arr2"
   ]
  },
  {
   "cell_type": "code",
   "execution_count": 47,
   "id": "4f253253-d56a-43d3-9f49-bae1a3c04206",
   "metadata": {},
   "outputs": [
    {
     "data": {
      "text/plain": [
       "array([[ 5, 14,  3,  7],\n",
       "       [15, 13, 10, 10],\n",
       "       [11,  6, 10,  8]])"
      ]
     },
     "execution_count": 47,
     "metadata": {},
     "output_type": "execute_result"
    }
   ],
   "source": [
    "arr1+arr2"
   ]
  },
  {
   "cell_type": "code",
   "execution_count": 48,
   "id": "1a16e70d-fe42-4ecb-ab26-965c0e784785",
   "metadata": {},
   "outputs": [
    {
     "data": {
      "text/plain": [
       "array([[ 4, 45,  2, 12],\n",
       "       [56, 42, 21, 24],\n",
       "       [18,  5, 16, 15]])"
      ]
     },
     "execution_count": 48,
     "metadata": {},
     "output_type": "execute_result"
    }
   ],
   "source": [
    "arr1*arr2"
   ]
  },
  {
   "cell_type": "code",
   "execution_count": 49,
   "id": "8d9c5920-435f-446a-9d5e-79c09453d22d",
   "metadata": {},
   "outputs": [
    {
     "data": {
      "text/plain": [
       "array([[0.25      , 1.8       , 2.        , 0.75      ],\n",
       "       [0.875     , 0.85714286, 0.42857143, 0.66666667],\n",
       "       [0.22222222, 0.2       , 4.        , 1.66666667]])"
      ]
     },
     "execution_count": 49,
     "metadata": {},
     "output_type": "execute_result"
    }
   ],
   "source": [
    "arr1/arr2"
   ]
  },
  {
   "cell_type": "code",
   "execution_count": 50,
   "id": "c767fded-ce79-4f17-88fb-da290db46ac1",
   "metadata": {},
   "outputs": [
    {
     "data": {
      "text/plain": [
       "array([[-3,  4,  1, -1],\n",
       "       [-1, -1, -4, -2],\n",
       "       [-7, -4,  6,  2]])"
      ]
     },
     "execution_count": 50,
     "metadata": {},
     "output_type": "execute_result"
    }
   ],
   "source": [
    "arr1-arr2"
   ]
  },
  {
   "cell_type": "code",
   "execution_count": 51,
   "id": "9288bb31-371d-4297-acd3-97e51a536fb8",
   "metadata": {},
   "outputs": [
    {
     "data": {
      "text/plain": [
       "array([[1, 4, 0, 3],\n",
       "       [7, 6, 3, 4],\n",
       "       [2, 1, 0, 2]])"
      ]
     },
     "execution_count": 51,
     "metadata": {},
     "output_type": "execute_result"
    }
   ],
   "source": [
    "arr1%arr2"
   ]
  },
  {
   "cell_type": "code",
   "execution_count": 52,
   "id": "fd07ffd9-7a7f-4a8f-ae80-d98d156081c6",
   "metadata": {},
   "outputs": [
    {
     "data": {
      "text/plain": [
       "array([[      1,   59049,       2,      81],\n",
       "       [5764801,  279936,    2187,    4096],\n",
       "       [    512,       1,      64,     125]])"
      ]
     },
     "execution_count": 52,
     "metadata": {},
     "output_type": "execute_result"
    }
   ],
   "source": [
    "arr1**arr2"
   ]
  },
  {
   "cell_type": "code",
   "execution_count": 53,
   "id": "2565a3ea-b316-45bb-9da2-bed379272c82",
   "metadata": {},
   "outputs": [
    {
     "data": {
      "text/plain": [
       "array([[0, 1, 0, 0],\n",
       "       [0, 6, 3, 4],\n",
       "       [0, 1, 0, 1]])"
      ]
     },
     "execution_count": 53,
     "metadata": {},
     "output_type": "execute_result"
    }
   ],
   "source": [
    "arr1 & arr2"
   ]
  },
  {
   "cell_type": "code",
   "execution_count": 54,
   "id": "ef176286-8999-46ff-8a80-4a00dc62b470",
   "metadata": {},
   "outputs": [
    {
     "data": {
      "text/plain": [
       "array([[1, 9, 2, 3],\n",
       "       [7, 6, 3, 4],\n",
       "       [2, 1, 8, 5]])"
      ]
     },
     "execution_count": 54,
     "metadata": {},
     "output_type": "execute_result"
    }
   ],
   "source": [
    "arr1"
   ]
  },
  {
   "cell_type": "code",
   "execution_count": 55,
   "id": "00951a65-2deb-41ea-93d2-68fec65c22ca",
   "metadata": {},
   "outputs": [
    {
     "data": {
      "text/plain": [
       "array([[4, 5, 1, 4],\n",
       "       [8, 7, 7, 6],\n",
       "       [9, 5, 2, 3]])"
      ]
     },
     "execution_count": 55,
     "metadata": {},
     "output_type": "execute_result"
    }
   ],
   "source": [
    "arr2"
   ]
  },
  {
   "cell_type": "code",
   "execution_count": 56,
   "id": "ee0ac088-1a37-4dcd-9125-3bdfbeadae1c",
   "metadata": {},
   "outputs": [
    {
     "data": {
      "text/plain": [
       "array([[ -2, -10,  -3,  -4],\n",
       "       [ -8,  -7,  -4,  -5],\n",
       "       [ -3,  -2,  -9,  -6]])"
      ]
     },
     "execution_count": 56,
     "metadata": {},
     "output_type": "execute_result"
    }
   ],
   "source": [
    "~arr1"
   ]
  },
  {
   "cell_type": "code",
   "execution_count": 57,
   "id": "0264d969-85e2-4b97-b9b7-49156c42f59d",
   "metadata": {},
   "outputs": [
    {
     "data": {
      "text/plain": [
       "array([[ 5, 13,  3,  7],\n",
       "       [15,  7,  7,  6],\n",
       "       [11,  5, 10,  7]])"
      ]
     },
     "execution_count": 57,
     "metadata": {},
     "output_type": "execute_result"
    }
   ],
   "source": [
    "arr1|arr2"
   ]
  },
  {
   "cell_type": "code",
   "execution_count": 58,
   "id": "2159e635-3f2a-4026-a977-ca6ec2c4cc94",
   "metadata": {},
   "outputs": [
    {
     "data": {
      "text/plain": [
       "array([[False,  True,  True, False],\n",
       "       [False, False, False, False],\n",
       "       [False, False,  True,  True]])"
      ]
     },
     "execution_count": 58,
     "metadata": {},
     "output_type": "execute_result"
    }
   ],
   "source": [
    "arr1>arr2"
   ]
  },
  {
   "cell_type": "code",
   "execution_count": 59,
   "id": "e629e7f1-9cb6-4d94-a0a2-d55fff9f8e1b",
   "metadata": {},
   "outputs": [],
   "source": [
    "# Numpy - String Functions."
   ]
  },
  {
   "cell_type": "code",
   "execution_count": 61,
   "id": "9df40c0b-084d-4f58-a790-1b04f5180815",
   "metadata": {},
   "outputs": [],
   "source": [
    "arr = np.array(['Dushyant', 'Kumar'])"
   ]
  },
  {
   "cell_type": "code",
   "execution_count": 62,
   "id": "4a403c81-b7ba-424a-9b79-c228cfe9de44",
   "metadata": {},
   "outputs": [
    {
     "data": {
      "text/plain": [
       "array(['Dushyant', 'Kumar'], dtype='<U8')"
      ]
     },
     "execution_count": 62,
     "metadata": {},
     "output_type": "execute_result"
    }
   ],
   "source": [
    "arr"
   ]
  },
  {
   "cell_type": "code",
   "execution_count": 63,
   "id": "6bb8bfd2-d049-4c59-8a7e-4aee3463456c",
   "metadata": {},
   "outputs": [
    {
     "data": {
      "text/plain": [
       "array(['DUSHYANT', 'KUMAR'], dtype='<U8')"
      ]
     },
     "execution_count": 63,
     "metadata": {},
     "output_type": "execute_result"
    }
   ],
   "source": [
    "np.char.upper(arr)"
   ]
  },
  {
   "cell_type": "code",
   "execution_count": 64,
   "id": "d92498f6-f744-4acc-a53e-7ee13f0b209b",
   "metadata": {},
   "outputs": [
    {
     "data": {
      "text/plain": [
       "array(['Dushyant', 'Kumar'], dtype='<U8')"
      ]
     },
     "execution_count": 64,
     "metadata": {},
     "output_type": "execute_result"
    }
   ],
   "source": [
    "np.char.title(arr)"
   ]
  },
  {
   "cell_type": "code",
   "execution_count": 65,
   "id": "a18db630-0a17-4d7d-bb72-fa70b698f740",
   "metadata": {},
   "outputs": [
    {
     "data": {
      "text/plain": [
       "array(['Dushyant', 'Kumar'], dtype='<U8')"
      ]
     },
     "execution_count": 65,
     "metadata": {},
     "output_type": "execute_result"
    }
   ],
   "source": [
    "np.char.capitalize(arr)"
   ]
  },
  {
   "cell_type": "code",
   "execution_count": 73,
   "id": "4822976a-43a0-4eb2-aa0e-da532149bc6d",
   "metadata": {},
   "outputs": [],
   "source": [
    "# Numpy - Mathmatical Functions."
   ]
  },
  {
   "cell_type": "code",
   "execution_count": 74,
   "id": "205f95b1-ef8b-4315-bcf7-ad4c2483f4f5",
   "metadata": {},
   "outputs": [
    {
     "data": {
      "text/plain": [
       "array([[1, 9, 2, 3],\n",
       "       [7, 6, 3, 4],\n",
       "       [2, 1, 8, 5]])"
      ]
     },
     "execution_count": 74,
     "metadata": {},
     "output_type": "execute_result"
    }
   ],
   "source": [
    "arr1"
   ]
  },
  {
   "cell_type": "code",
   "execution_count": 76,
   "id": "159043d8-f99a-4d25-ae25-e89144809290",
   "metadata": {},
   "outputs": [
    {
     "data": {
      "text/plain": [
       "array([[ 0.84147098,  0.41211849,  0.90929743,  0.14112001],\n",
       "       [ 0.6569866 , -0.2794155 ,  0.14112001, -0.7568025 ],\n",
       "       [ 0.90929743,  0.84147098,  0.98935825, -0.95892427]])"
      ]
     },
     "execution_count": 76,
     "metadata": {},
     "output_type": "execute_result"
    }
   ],
   "source": [
    "np.sin(arr1)"
   ]
  },
  {
   "cell_type": "code",
   "execution_count": 77,
   "id": "d9d50721-9cd9-4f0f-b968-5399ad20c735",
   "metadata": {},
   "outputs": [
    {
     "data": {
      "text/plain": [
       "array([[ 0.54030231, -0.91113026, -0.41614684, -0.9899925 ],\n",
       "       [ 0.75390225,  0.96017029, -0.9899925 , -0.65364362],\n",
       "       [-0.41614684,  0.54030231, -0.14550003,  0.28366219]])"
      ]
     },
     "execution_count": 77,
     "metadata": {},
     "output_type": "execute_result"
    }
   ],
   "source": [
    "np.cos(arr1)"
   ]
  },
  {
   "cell_type": "code",
   "execution_count": 78,
   "id": "680ad804-5ab9-423e-8568-527a91a5018a",
   "metadata": {},
   "outputs": [
    {
     "data": {
      "text/plain": [
       "array([[ 1.55740772, -0.45231566, -2.18503986, -0.14254654],\n",
       "       [ 0.87144798, -0.29100619, -0.14254654,  1.15782128],\n",
       "       [-2.18503986,  1.55740772, -6.79971146, -3.38051501]])"
      ]
     },
     "execution_count": 78,
     "metadata": {},
     "output_type": "execute_result"
    }
   ],
   "source": [
    "np.tan(arr1)"
   ]
  },
  {
   "cell_type": "code",
   "execution_count": 79,
   "id": "95241f97-b36f-4941-8d10-f388d764a7a9",
   "metadata": {},
   "outputs": [
    {
     "data": {
      "text/plain": [
       "array([[1.17520119e+00, 4.05154190e+03, 3.62686041e+00, 1.00178749e+01],\n",
       "       [5.48316123e+02, 2.01713157e+02, 1.00178749e+01, 2.72899172e+01],\n",
       "       [3.62686041e+00, 1.17520119e+00, 1.49047883e+03, 7.42032106e+01]])"
      ]
     },
     "execution_count": 79,
     "metadata": {},
     "output_type": "execute_result"
    }
   ],
   "source": [
    "np.sinh(arr1)"
   ]
  },
  {
   "cell_type": "code",
   "execution_count": 80,
   "id": "e2cc9f96-3f7b-41e7-b6a0-b17ac286e15e",
   "metadata": {},
   "outputs": [
    {
     "data": {
      "text/plain": [
       "array([[0.76159416, 0.99999997, 0.96402758, 0.99505475],\n",
       "       [0.99999834, 0.99998771, 0.99505475, 0.9993293 ],\n",
       "       [0.96402758, 0.76159416, 0.99999977, 0.9999092 ]])"
      ]
     },
     "execution_count": 80,
     "metadata": {},
     "output_type": "execute_result"
    }
   ],
   "source": [
    "np.tanh(arr1)"
   ]
  },
  {
   "cell_type": "code",
   "execution_count": 81,
   "id": "dcdf1618-9313-476b-b88c-d9f54fafa554",
   "metadata": {},
   "outputs": [
    {
     "data": {
      "text/plain": [
       "array([[0.        , 0.95424251, 0.30103   , 0.47712125],\n",
       "       [0.84509804, 0.77815125, 0.47712125, 0.60205999],\n",
       "       [0.30103   , 0.        , 0.90308999, 0.69897   ]])"
      ]
     },
     "execution_count": 81,
     "metadata": {},
     "output_type": "execute_result"
    }
   ],
   "source": [
    "np.log10(arr1)"
   ]
  },
  {
   "cell_type": "code",
   "execution_count": 82,
   "id": "a2157778-9713-4712-8832-fc8d719e3b9d",
   "metadata": {},
   "outputs": [
    {
     "data": {
      "text/plain": [
       "array([[2.71828183e+00, 8.10308393e+03, 7.38905610e+00, 2.00855369e+01],\n",
       "       [1.09663316e+03, 4.03428793e+02, 2.00855369e+01, 5.45981500e+01],\n",
       "       [7.38905610e+00, 2.71828183e+00, 2.98095799e+03, 1.48413159e+02]])"
      ]
     },
     "execution_count": 82,
     "metadata": {},
     "output_type": "execute_result"
    }
   ],
   "source": [
    "np.exp(arr1)"
   ]
  },
  {
   "cell_type": "code",
   "execution_count": 83,
   "id": "c64fa15d-e8b7-4938-bc48-34843790aa68",
   "metadata": {},
   "outputs": [
    {
     "data": {
      "text/plain": [
       "array([[1.        , 3.        , 1.41421356, 1.73205081],\n",
       "       [2.64575131, 2.44948974, 1.73205081, 2.        ],\n",
       "       [1.41421356, 1.        , 2.82842712, 2.23606798]])"
      ]
     },
     "execution_count": 83,
     "metadata": {},
     "output_type": "execute_result"
    }
   ],
   "source": [
    "np.sqrt(arr1)"
   ]
  },
  {
   "cell_type": "code",
   "execution_count": 84,
   "id": "af035016-c111-4db1-b52b-f06afe8023c2",
   "metadata": {},
   "outputs": [
    {
     "data": {
      "text/plain": [
       "array([[ 1, 81,  4,  9],\n",
       "       [49, 36,  9, 16],\n",
       "       [ 4,  1, 64, 25]])"
      ]
     },
     "execution_count": 84,
     "metadata": {},
     "output_type": "execute_result"
    }
   ],
   "source": [
    "np.power(arr1,2)"
   ]
  },
  {
   "cell_type": "code",
   "execution_count": 85,
   "id": "434d27c2-94f9-4f31-b4fb-6fcd06786e2a",
   "metadata": {},
   "outputs": [
    {
     "data": {
      "text/plain": [
       "4.25"
      ]
     },
     "execution_count": 85,
     "metadata": {},
     "output_type": "execute_result"
    }
   ],
   "source": [
    "np.mean(arr1)"
   ]
  },
  {
   "cell_type": "code",
   "execution_count": 88,
   "id": "f484d5f6-4e35-484c-be25-3e875d30ea22",
   "metadata": {},
   "outputs": [
    {
     "data": {
      "text/plain": [
       "3.5"
      ]
     },
     "execution_count": 88,
     "metadata": {},
     "output_type": "execute_result"
    }
   ],
   "source": [
    "np.median(arr1)"
   ]
  },
  {
   "cell_type": "code",
   "execution_count": 89,
   "id": "b16e0294-5cfb-4f37-a146-990f4e71e7dc",
   "metadata": {},
   "outputs": [
    {
     "data": {
      "text/plain": [
       "2.6180463454008347"
      ]
     },
     "execution_count": 89,
     "metadata": {},
     "output_type": "execute_result"
    }
   ],
   "source": [
    "np.std(arr1)"
   ]
  },
  {
   "cell_type": "code",
   "execution_count": 90,
   "id": "fa6fd8f2-0f1a-4014-b52e-5058d7a8d7db",
   "metadata": {},
   "outputs": [
    {
     "data": {
      "text/plain": [
       "6.854166666666667"
      ]
     },
     "execution_count": 90,
     "metadata": {},
     "output_type": "execute_result"
    }
   ],
   "source": [
    "np.var(arr1)"
   ]
  },
  {
   "cell_type": "code",
   "execution_count": 91,
   "id": "724afed3-fe54-40bf-a055-fdc975a1f5ba",
   "metadata": {},
   "outputs": [
    {
     "data": {
      "text/plain": [
       "1"
      ]
     },
     "execution_count": 91,
     "metadata": {},
     "output_type": "execute_result"
    }
   ],
   "source": [
    "np.min(arr1)"
   ]
  },
  {
   "cell_type": "code",
   "execution_count": 92,
   "id": "0c573a35-1d78-498a-806b-4b876c3851d9",
   "metadata": {},
   "outputs": [
    {
     "data": {
      "text/plain": [
       "9"
      ]
     },
     "execution_count": 92,
     "metadata": {},
     "output_type": "execute_result"
    }
   ],
   "source": [
    "np.max(arr1)"
   ]
  },
  {
   "cell_type": "code",
   "execution_count": null,
   "id": "3b0bd433-d59d-4566-be86-da2ffde348df",
   "metadata": {},
   "outputs": [],
   "source": []
  }
 ],
 "metadata": {
  "kernelspec": {
   "display_name": "Python 3 (ipykernel)",
   "language": "python",
   "name": "python3"
  },
  "language_info": {
   "codemirror_mode": {
    "name": "ipython",
    "version": 3
   },
   "file_extension": ".py",
   "mimetype": "text/x-python",
   "name": "python",
   "nbconvert_exporter": "python",
   "pygments_lexer": "ipython3",
   "version": "3.10.6"
  }
 },
 "nbformat": 4,
 "nbformat_minor": 5
}
