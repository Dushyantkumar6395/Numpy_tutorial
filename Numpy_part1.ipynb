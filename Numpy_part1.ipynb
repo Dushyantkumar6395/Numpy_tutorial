{
 "cells": [
  {
   "cell_type": "code",
   "execution_count": 1,
   "id": "e6fcab0f-a4f8-42bf-a28c-4d18ee5b7727",
   "metadata": {},
   "outputs": [],
   "source": [
    "import numpy as np"
   ]
  },
  {
   "cell_type": "code",
   "execution_count": 2,
   "id": "422b13b2-bc71-4da0-88ad-6e7c4af8a3c2",
   "metadata": {},
   "outputs": [],
   "source": [
    "l = [1,2,3,4]"
   ]
  },
  {
   "cell_type": "code",
   "execution_count": 4,
   "id": "275534c9-b5ee-40fe-b5de-0560de352d68",
   "metadata": {},
   "outputs": [],
   "source": [
    "ar = np.array(l)"
   ]
  },
  {
   "cell_type": "code",
   "execution_count": 5,
   "id": "6beb15de-9d1c-447c-8988-6e58fd9988ac",
   "metadata": {},
   "outputs": [
    {
     "data": {
      "text/plain": [
       "array([1, 2, 3, 4])"
      ]
     },
     "execution_count": 5,
     "metadata": {},
     "output_type": "execute_result"
    }
   ],
   "source": [
    "ar"
   ]
  },
  {
   "cell_type": "code",
   "execution_count": 6,
   "id": "76e4eeef-5d8f-42e5-be06-21c25cc2d24a",
   "metadata": {},
   "outputs": [
    {
     "data": {
      "text/plain": [
       "numpy.ndarray"
      ]
     },
     "execution_count": 6,
     "metadata": {},
     "output_type": "execute_result"
    }
   ],
   "source": [
    "type(ar)"
   ]
  },
  {
   "cell_type": "code",
   "execution_count": 7,
   "id": "f8dd1ade-1240-4715-b62e-892bfe6aa232",
   "metadata": {},
   "outputs": [
    {
     "data": {
      "text/plain": [
       "array([[1, 2],\n",
       "       [3, 4]])"
      ]
     },
     "execution_count": 7,
     "metadata": {},
     "output_type": "execute_result"
    }
   ],
   "source": [
    "np.array([[1,2],[3,4]])"
   ]
  },
  {
   "cell_type": "code",
   "execution_count": 10,
   "id": "fb2a21f7-dca4-47cb-94a5-78565a8ffffc",
   "metadata": {},
   "outputs": [],
   "source": [
    "ar1 = np.asarray(l)"
   ]
  },
  {
   "cell_type": "code",
   "execution_count": 11,
   "id": "a6b1d080-eb28-431d-bb5c-ae420b053222",
   "metadata": {},
   "outputs": [
    {
     "data": {
      "text/plain": [
       "numpy.ndarray"
      ]
     },
     "execution_count": 11,
     "metadata": {},
     "output_type": "execute_result"
    }
   ],
   "source": [
    "type(ar1)"
   ]
  },
  {
   "cell_type": "code",
   "execution_count": 12,
   "id": "50b6c753-8e71-46cb-927c-97e75614b9c9",
   "metadata": {},
   "outputs": [],
   "source": [
    "a = [2,3,4]"
   ]
  },
  {
   "cell_type": "code",
   "execution_count": 13,
   "id": "e47e8201-7b50-42be-b586-555b1f793d18",
   "metadata": {},
   "outputs": [
    {
     "data": {
      "text/plain": [
       "array([2, 3, 4])"
      ]
     },
     "execution_count": 13,
     "metadata": {},
     "output_type": "execute_result"
    }
   ],
   "source": [
    "np.asanyarray(a)"
   ]
  },
  {
   "cell_type": "code",
   "execution_count": 14,
   "id": "5c73740c-c202-4fff-8610-65558bfa0d68",
   "metadata": {},
   "outputs": [],
   "source": [
    "b = np.matrix(l)"
   ]
  },
  {
   "cell_type": "code",
   "execution_count": 15,
   "id": "9e388616-48fa-4f1c-a73f-f38b96fe8f34",
   "metadata": {},
   "outputs": [
    {
     "data": {
      "text/plain": [
       "matrix([[1, 2, 3, 4]])"
      ]
     },
     "execution_count": 15,
     "metadata": {},
     "output_type": "execute_result"
    }
   ],
   "source": [
    "b"
   ]
  },
  {
   "cell_type": "code",
   "execution_count": 16,
   "id": "6d26702f-4a2e-4008-801a-5bed9927fba8",
   "metadata": {},
   "outputs": [
    {
     "data": {
      "text/plain": [
       "matrix([[1, 2, 3, 4]])"
      ]
     },
     "execution_count": 16,
     "metadata": {},
     "output_type": "execute_result"
    }
   ],
   "source": [
    "np.asanyarray(b)"
   ]
  },
  {
   "cell_type": "code",
   "execution_count": 17,
   "id": "a39342b5-502f-4b0d-ba7c-4c946027b99b",
   "metadata": {},
   "outputs": [],
   "source": [
    "a = np.array(l)"
   ]
  },
  {
   "cell_type": "code",
   "execution_count": 18,
   "id": "c6865031-4b0a-4198-b543-b6e3b6846240",
   "metadata": {},
   "outputs": [
    {
     "data": {
      "text/plain": [
       "array([1, 2, 3, 4])"
      ]
     },
     "execution_count": 18,
     "metadata": {},
     "output_type": "execute_result"
    }
   ],
   "source": [
    "a"
   ]
  },
  {
   "cell_type": "code",
   "execution_count": 19,
   "id": "766b0df1-2cea-4157-9834-6cc274585f75",
   "metadata": {},
   "outputs": [],
   "source": [
    "c = a"
   ]
  },
  {
   "cell_type": "code",
   "execution_count": 20,
   "id": "c783b799-80af-4cd9-9e56-090235084d6d",
   "metadata": {},
   "outputs": [
    {
     "data": {
      "text/plain": [
       "array([1, 2, 3, 4])"
      ]
     },
     "execution_count": 20,
     "metadata": {},
     "output_type": "execute_result"
    }
   ],
   "source": [
    "c"
   ]
  },
  {
   "cell_type": "code",
   "execution_count": 22,
   "id": "8fef151b-43df-4095-828f-df837fae430d",
   "metadata": {},
   "outputs": [],
   "source": [
    "c[0] = 100"
   ]
  },
  {
   "cell_type": "code",
   "execution_count": 23,
   "id": "da89faf4-7f7f-4ee8-bc77-962621f69d79",
   "metadata": {},
   "outputs": [
    {
     "data": {
      "text/plain": [
       "array([100,   2,   3,   4])"
      ]
     },
     "execution_count": 23,
     "metadata": {},
     "output_type": "execute_result"
    }
   ],
   "source": [
    "c"
   ]
  },
  {
   "cell_type": "code",
   "execution_count": 24,
   "id": "8755fb07-d233-4cd0-b1d9-e5b68e83edce",
   "metadata": {},
   "outputs": [
    {
     "data": {
      "text/plain": [
       "array([100,   2,   3,   4])"
      ]
     },
     "execution_count": 24,
     "metadata": {},
     "output_type": "execute_result"
    }
   ],
   "source": [
    "a"
   ]
  },
  {
   "cell_type": "code",
   "execution_count": 25,
   "id": "8ad8baf4-b43a-41db-9da8-2e318cff8447",
   "metadata": {},
   "outputs": [],
   "source": [
    "d = np.copy(a)"
   ]
  },
  {
   "cell_type": "code",
   "execution_count": 26,
   "id": "19836b4b-b667-47bd-89a8-b036c57e3b01",
   "metadata": {},
   "outputs": [
    {
     "data": {
      "text/plain": [
       "array([100,   2,   3,   4])"
      ]
     },
     "execution_count": 26,
     "metadata": {},
     "output_type": "execute_result"
    }
   ],
   "source": [
    "d"
   ]
  },
  {
   "cell_type": "code",
   "execution_count": 27,
   "id": "52600a7f-4382-4959-9bc9-997bdc81592f",
   "metadata": {},
   "outputs": [
    {
     "data": {
      "text/plain": [
       "array([100,   2,   3,   4])"
      ]
     },
     "execution_count": 27,
     "metadata": {},
     "output_type": "execute_result"
    }
   ],
   "source": [
    "a"
   ]
  },
  {
   "cell_type": "code",
   "execution_count": 28,
   "id": "c351b899-b0aa-4fef-9080-9a494d3e384f",
   "metadata": {},
   "outputs": [],
   "source": [
    "a[1] = 400"
   ]
  },
  {
   "cell_type": "code",
   "execution_count": 29,
   "id": "82c6a4c4-45ad-435b-8911-0b50199e3da5",
   "metadata": {},
   "outputs": [
    {
     "data": {
      "text/plain": [
       "array([100, 400,   3,   4])"
      ]
     },
     "execution_count": 29,
     "metadata": {},
     "output_type": "execute_result"
    }
   ],
   "source": [
    "a"
   ]
  },
  {
   "cell_type": "code",
   "execution_count": 30,
   "id": "5d6e9a72-0bba-4fa2-aeba-eb0fb54d1609",
   "metadata": {},
   "outputs": [
    {
     "data": {
      "text/plain": [
       "array([100,   2,   3,   4])"
      ]
     },
     "execution_count": 30,
     "metadata": {},
     "output_type": "execute_result"
    }
   ],
   "source": [
    "d"
   ]
  },
  {
   "cell_type": "code",
   "execution_count": 35,
   "id": "31a1a637-43ff-4515-aeb5-b772bc9576bd",
   "metadata": {},
   "outputs": [
    {
     "data": {
      "text/plain": [
       "array([[ True, False, False],\n",
       "       [False,  True, False],\n",
       "       [False, False,  True]])"
      ]
     },
     "execution_count": 35,
     "metadata": {},
     "output_type": "execute_result"
    }
   ],
   "source": [
    "np.fromfunction(lambda i,j : i==j, (3,3))"
   ]
  },
  {
   "cell_type": "code",
   "execution_count": 36,
   "id": "5db32fe9-3c7b-4192-8f5d-0438e06adc97",
   "metadata": {},
   "outputs": [
    {
     "data": {
      "text/plain": [
       "array([[0., 0., 0.],\n",
       "       [0., 1., 2.],\n",
       "       [0., 2., 4.]])"
      ]
     },
     "execution_count": 36,
     "metadata": {},
     "output_type": "execute_result"
    }
   ],
   "source": [
    "np.fromfunction(lambda i,j : i*j, (3,3))"
   ]
  },
  {
   "cell_type": "code",
   "execution_count": 39,
   "id": "4e6c21aa-7e79-4427-bb70-98293daaf859",
   "metadata": {},
   "outputs": [],
   "source": [
    "iterable = (i*i for i in range(5))"
   ]
  },
  {
   "cell_type": "code",
   "execution_count": 41,
   "id": "28567c53-8919-44a5-8bf0-9965c788e256",
   "metadata": {},
   "outputs": [
    {
     "data": {
      "text/plain": [
       "array([ 0.,  1.,  4.,  9., 16.])"
      ]
     },
     "execution_count": 41,
     "metadata": {},
     "output_type": "execute_result"
    }
   ],
   "source": [
    "np.fromiter(iterable,float)"
   ]
  },
  {
   "cell_type": "code",
   "execution_count": 42,
   "id": "8adf00a6-07b5-41e8-b8bb-da506f658722",
   "metadata": {},
   "outputs": [
    {
     "data": {
      "text/plain": [
       "array([234., 234.])"
      ]
     },
     "execution_count": 42,
     "metadata": {},
     "output_type": "execute_result"
    }
   ],
   "source": [
    "np.fromstring('234 234', sep = ' ')"
   ]
  },
  {
   "cell_type": "code",
   "execution_count": 43,
   "id": "b9a6b368-9c0d-4de9-b133-301118af6db9",
   "metadata": {},
   "outputs": [
    {
     "data": {
      "text/plain": [
       "array([1., 2., 3., 4., 5.])"
      ]
     },
     "execution_count": 43,
     "metadata": {},
     "output_type": "execute_result"
    }
   ],
   "source": [
    "np.fromstring('1,2,3,4,5', sep = ',')"
   ]
  },
  {
   "cell_type": "code",
   "execution_count": 44,
   "id": "d792af7f-9aff-462d-ae60-5ba0d12d0f11",
   "metadata": {},
   "outputs": [],
   "source": [
    " # Numpy - Data Types"
   ]
  },
  {
   "cell_type": "code",
   "execution_count": 45,
   "id": "a654556e-d6fb-4ad7-b597-342af3052f51",
   "metadata": {},
   "outputs": [],
   "source": [
    "l = [2,3,4,5,6]"
   ]
  },
  {
   "cell_type": "code",
   "execution_count": 46,
   "id": "49dda1ea-a5c4-42b4-9032-79f463b47a1c",
   "metadata": {},
   "outputs": [],
   "source": [
    "ar = np.array(l)"
   ]
  },
  {
   "cell_type": "code",
   "execution_count": 47,
   "id": "03729a87-7e61-431b-98ac-f1cd4aed833f",
   "metadata": {},
   "outputs": [
    {
     "data": {
      "text/plain": [
       "array([2, 3, 4, 5, 6])"
      ]
     },
     "execution_count": 47,
     "metadata": {},
     "output_type": "execute_result"
    }
   ],
   "source": [
    "ar"
   ]
  },
  {
   "cell_type": "code",
   "execution_count": 48,
   "id": "8e8c6478-a948-4ea8-988d-e51c0bed54da",
   "metadata": {},
   "outputs": [
    {
     "data": {
      "text/plain": [
       "1"
      ]
     },
     "execution_count": 48,
     "metadata": {},
     "output_type": "execute_result"
    }
   ],
   "source": [
    "ar.ndim"
   ]
  },
  {
   "cell_type": "code",
   "execution_count": 49,
   "id": "4418f7d9-8409-47d1-af36-85917c7d9317",
   "metadata": {},
   "outputs": [],
   "source": [
    "ar2 = np.array([[1,2,3,4],[2,3,4,5]])"
   ]
  },
  {
   "cell_type": "code",
   "execution_count": 50,
   "id": "2d4baf47-579c-479f-b811-0a91c22e7973",
   "metadata": {},
   "outputs": [
    {
     "data": {
      "text/plain": [
       "array([[1, 2, 3, 4],\n",
       "       [2, 3, 4, 5]])"
      ]
     },
     "execution_count": 50,
     "metadata": {},
     "output_type": "execute_result"
    }
   ],
   "source": [
    "ar2"
   ]
  },
  {
   "cell_type": "code",
   "execution_count": 51,
   "id": "bae6cd82-2b6c-4615-97f8-de9d0b5204d8",
   "metadata": {},
   "outputs": [
    {
     "data": {
      "text/plain": [
       "2"
      ]
     },
     "execution_count": 51,
     "metadata": {},
     "output_type": "execute_result"
    }
   ],
   "source": [
    "ar2.ndim"
   ]
  },
  {
   "cell_type": "code",
   "execution_count": 53,
   "id": "b07929e2-04a4-4a22-beb7-c82b51e95ab4",
   "metadata": {},
   "outputs": [
    {
     "data": {
      "text/plain": [
       "5"
      ]
     },
     "execution_count": 53,
     "metadata": {},
     "output_type": "execute_result"
    }
   ],
   "source": [
    "ar.size"
   ]
  },
  {
   "cell_type": "code",
   "execution_count": 54,
   "id": "b4ce0ba7-d76f-459d-befa-1f8e8efe78f4",
   "metadata": {},
   "outputs": [
    {
     "data": {
      "text/plain": [
       "8"
      ]
     },
     "execution_count": 54,
     "metadata": {},
     "output_type": "execute_result"
    }
   ],
   "source": [
    "ar2.size"
   ]
  },
  {
   "cell_type": "code",
   "execution_count": 55,
   "id": "726858b9-fa36-44a4-a046-703500a25279",
   "metadata": {},
   "outputs": [
    {
     "data": {
      "text/plain": [
       "(5,)"
      ]
     },
     "execution_count": 55,
     "metadata": {},
     "output_type": "execute_result"
    }
   ],
   "source": [
    "ar.shape"
   ]
  },
  {
   "cell_type": "code",
   "execution_count": 56,
   "id": "5b94b826-85da-48b5-8ee4-0c9f6265c042",
   "metadata": {},
   "outputs": [
    {
     "data": {
      "text/plain": [
       "(2, 4)"
      ]
     },
     "execution_count": 56,
     "metadata": {},
     "output_type": "execute_result"
    }
   ],
   "source": [
    "ar2.shapee"
   ]
  },
  {
   "cell_type": "code",
   "execution_count": 58,
   "id": "f17e5785-d57f-4014-b74b-9a925018d5d4",
   "metadata": {},
   "outputs": [
    {
     "data": {
      "text/plain": [
       "dtype('int64')"
      ]
     },
     "execution_count": 58,
     "metadata": {},
     "output_type": "execute_result"
    }
   ],
   "source": [
    "ar.dtype"
   ]
  },
  {
   "cell_type": "code",
   "execution_count": 59,
   "id": "a66f1492-a2cd-46d4-ac92-32ec48def0a1",
   "metadata": {},
   "outputs": [
    {
     "data": {
      "text/plain": [
       "dtype('int64')"
      ]
     },
     "execution_count": 59,
     "metadata": {},
     "output_type": "execute_result"
    }
   ],
   "source": [
    "ar2.dtype"
   ]
  },
  {
   "cell_type": "code",
   "execution_count": 60,
   "id": "150ed643-0a0f-4e5d-805c-05a74914aac6",
   "metadata": {},
   "outputs": [],
   "source": [
    "ar22 = np.array([(1.4,45,45), (23,45,66)])"
   ]
  },
  {
   "cell_type": "code",
   "execution_count": 61,
   "id": "01b9c61c-1fe4-41d4-91fe-d78379ea5458",
   "metadata": {},
   "outputs": [
    {
     "data": {
      "text/plain": [
       "array([[ 1.4, 45. , 45. ],\n",
       "       [23. , 45. , 66. ]])"
      ]
     },
     "execution_count": 61,
     "metadata": {},
     "output_type": "execute_result"
    }
   ],
   "source": [
    "ar22"
   ]
  },
  {
   "cell_type": "code",
   "execution_count": 62,
   "id": "40edfc05-c6e4-4218-8cec-c401ff79e1bc",
   "metadata": {},
   "outputs": [
    {
     "data": {
      "text/plain": [
       "dtype('float64')"
      ]
     },
     "execution_count": 62,
     "metadata": {},
     "output_type": "execute_result"
    }
   ],
   "source": [
    "ar22.dtype"
   ]
  },
  {
   "cell_type": "code",
   "execution_count": 64,
   "id": "4b79e1c2-0f05-4dff-bfa2-9b331aaca16e",
   "metadata": {},
   "outputs": [
    {
     "data": {
      "text/plain": [
       "[1, 2, 3, 4]"
      ]
     },
     "execution_count": 64,
     "metadata": {},
     "output_type": "execute_result"
    }
   ],
   "source": [
    "list(range(5))"
   ]
  },
  {
   "cell_type": "code",
   "execution_count": 65,
   "id": "0b48d39b-2cf7-4f64-9777-0d8f86d9da08",
   "metadata": {},
   "outputs": [
    {
     "ename": "TypeError",
     "evalue": "'float' object cannot be interpreted as an integer",
     "output_type": "error",
     "traceback": [
      "\u001b[0;31m---------------------------------------------------------------------------\u001b[0m",
      "\u001b[0;31mTypeError\u001b[0m                                 Traceback (most recent call last)",
      "Cell \u001b[0;32mIn [65], line 1\u001b[0m\n\u001b[0;32m----> 1\u001b[0m \u001b[38;5;28mlist\u001b[39m(\u001b[38;5;28;43mrange\u001b[39;49m\u001b[43m(\u001b[49m\u001b[38;5;241;43m0.1\u001b[39;49m\u001b[43m,\u001b[49m\u001b[38;5;241;43m5\u001b[39;49m\u001b[43m)\u001b[49m)\n",
      "\u001b[0;31mTypeError\u001b[0m: 'float' object cannot be interpreted as an integer"
     ]
    }
   ],
   "source": [
    "list(range(0.1,5))"
   ]
  },
  {
   "cell_type": "code",
   "execution_count": 66,
   "id": "0d8d2a87-8864-4b73-a85d-c84796d5be29",
   "metadata": {},
   "outputs": [
    {
     "data": {
      "text/plain": [
       "array([2.3, 3.3, 4.3, 5.3])"
      ]
     },
     "execution_count": 66,
     "metadata": {},
     "output_type": "execute_result"
    }
   ],
   "source": [
    "np.arange(2.3,5.6)"
   ]
  },
  {
   "cell_type": "code",
   "execution_count": 67,
   "id": "63fcf04d-d1eb-495a-abd5-970281ded20f",
   "metadata": {},
   "outputs": [
    {
     "data": {
      "text/plain": [
       "array([2.3, 2.4, 2.5, 2.6, 2.7, 2.8, 2.9, 3. , 3.1, 3.2, 3.3, 3.4, 3.5,\n",
       "       3.6, 3.7, 3.8, 3.9, 4. , 4.1, 4.2, 4.3, 4.4, 4.5, 4.6, 4.7, 4.8,\n",
       "       4.9, 5. , 5.1, 5.2, 5.3, 5.4, 5.5])"
      ]
     },
     "execution_count": 67,
     "metadata": {},
     "output_type": "execute_result"
    }
   ],
   "source": [
    "np.arange(2.3,5.6,0.1) #(starting point, end point, jump point)"
   ]
  },
  {
   "cell_type": "code",
   "execution_count": 68,
   "id": "00e68d89-c391-4870-ad2a-4b5725449b09",
   "metadata": {},
   "outputs": [
    {
     "data": {
      "text/plain": [
       "[2.3,\n",
       " 2.4,\n",
       " 2.5,\n",
       " 2.6,\n",
       " 2.7,\n",
       " 2.8000000000000003,\n",
       " 2.9000000000000004,\n",
       " 3.0000000000000004,\n",
       " 3.1000000000000005,\n",
       " 3.2000000000000006,\n",
       " 3.3000000000000007,\n",
       " 3.400000000000001,\n",
       " 3.500000000000001,\n",
       " 3.600000000000001,\n",
       " 3.700000000000001,\n",
       " 3.800000000000001,\n",
       " 3.9000000000000012,\n",
       " 4.000000000000002,\n",
       " 4.100000000000001,\n",
       " 4.200000000000001,\n",
       " 4.300000000000002,\n",
       " 4.400000000000002,\n",
       " 4.500000000000002,\n",
       " 4.600000000000001,\n",
       " 4.700000000000002,\n",
       " 4.8000000000000025,\n",
       " 4.900000000000002,\n",
       " 5.000000000000002,\n",
       " 5.100000000000002,\n",
       " 5.200000000000003,\n",
       " 5.3000000000000025,\n",
       " 5.400000000000002,\n",
       " 5.500000000000003]"
      ]
     },
     "execution_count": 68,
     "metadata": {},
     "output_type": "execute_result"
    }
   ],
   "source": [
    "list(np.arange(2.3,5.6,0.1))"
   ]
  },
  {
   "cell_type": "code",
   "execution_count": 70,
   "id": "03e4ceff-abf3-48ae-988a-7bbf983351ee",
   "metadata": {},
   "outputs": [
    {
     "data": {
      "text/plain": [
       "array([1.        , 1.44444444, 1.88888889, 2.33333333, 2.77777778,\n",
       "       3.22222222, 3.66666667, 4.11111111, 4.55555556, 5.        ])"
      ]
     },
     "execution_count": 70,
     "metadata": {},
     "output_type": "execute_result"
    }
   ],
   "source": [
    "np.linspace(1,5,10)"
   ]
  },
  {
   "cell_type": "code",
   "execution_count": 71,
   "id": "207ca312-5235-4091-8b2c-711fd88b10db",
   "metadata": {},
   "outputs": [
    {
     "data": {
      "text/plain": [
       "array([0., 0., 0., 0., 0.])"
      ]
     },
     "execution_count": 71,
     "metadata": {},
     "output_type": "execute_result"
    }
   ],
   "source": [
    "np.zeros(5)"
   ]
  },
  {
   "cell_type": "code",
   "execution_count": 72,
   "id": "d8fe032d-bf4c-4caf-9f08-841b0fa8a807",
   "metadata": {},
   "outputs": [
    {
     "data": {
      "text/plain": [
       "array([[0., 0., 0., 0.],\n",
       "       [0., 0., 0., 0.],\n",
       "       [0., 0., 0., 0.]])"
      ]
     },
     "execution_count": 72,
     "metadata": {},
     "output_type": "execute_result"
    }
   ],
   "source": [
    "np.zeros((3,4))"
   ]
  },
  {
   "cell_type": "code",
   "execution_count": 73,
   "id": "82cdd417-97c1-42eb-98b0-c64f003598cf",
   "metadata": {},
   "outputs": [
    {
     "data": {
      "text/plain": [
       "array([[0., 0., 0.],\n",
       "       [0., 0., 0.],\n",
       "       [0., 0., 0.]])"
      ]
     },
     "execution_count": 73,
     "metadata": {},
     "output_type": "execute_result"
    }
   ],
   "source": [
    "np.zeros((3,3))"
   ]
  },
  {
   "cell_type": "code",
   "execution_count": 74,
   "id": "6d0f0fe3-eb7d-4c35-84d4-65d9dfe47bcc",
   "metadata": {},
   "outputs": [
    {
     "data": {
      "text/plain": [
       "array([[[0., 0.],\n",
       "        [0., 0.],\n",
       "        [0., 0.],\n",
       "        [0., 0.]],\n",
       "\n",
       "       [[0., 0.],\n",
       "        [0., 0.],\n",
       "        [0., 0.],\n",
       "        [0., 0.]],\n",
       "\n",
       "       [[0., 0.],\n",
       "        [0., 0.],\n",
       "        [0., 0.],\n",
       "        [0., 0.]]])"
      ]
     },
     "execution_count": 74,
     "metadata": {},
     "output_type": "execute_result"
    }
   ],
   "source": [
    "np.zeros((3,4,2))"
   ]
  },
  {
   "cell_type": "code",
   "execution_count": 78,
   "id": "cd3201e7-a0a2-4a09-8c82-8ca77024f30e",
   "metadata": {},
   "outputs": [
    {
     "data": {
      "text/plain": [
       "array([[[0., 0.],\n",
       "        [0., 0.],\n",
       "        [0., 0.],\n",
       "        [0., 0.]],\n",
       "\n",
       "       [[0., 0.],\n",
       "        [0., 0.],\n",
       "        [0., 0.],\n",
       "        [0., 0.]]])"
      ]
     },
     "execution_count": 78,
     "metadata": {},
     "output_type": "execute_result"
    }
   ],
   "source": [
    "np.zeros((2,4,2))  # (number of matrix of 4x2)"
   ]
  },
  {
   "cell_type": "code",
   "execution_count": 80,
   "id": "b4c0ace3-ebfa-4aca-b2a3-9b255aabe7d2",
   "metadata": {},
   "outputs": [],
   "source": [
    "ar4 = np.zeros((3,4,2,3))"
   ]
  },
  {
   "cell_type": "code",
   "execution_count": 81,
   "id": "dba3d7ed-5222-4110-95cb-1c6716807ef1",
   "metadata": {},
   "outputs": [
    {
     "data": {
      "text/plain": [
       "array([[[[0., 0., 0.],\n",
       "         [0., 0., 0.]],\n",
       "\n",
       "        [[0., 0., 0.],\n",
       "         [0., 0., 0.]],\n",
       "\n",
       "        [[0., 0., 0.],\n",
       "         [0., 0., 0.]],\n",
       "\n",
       "        [[0., 0., 0.],\n",
       "         [0., 0., 0.]]],\n",
       "\n",
       "\n",
       "       [[[0., 0., 0.],\n",
       "         [0., 0., 0.]],\n",
       "\n",
       "        [[0., 0., 0.],\n",
       "         [0., 0., 0.]],\n",
       "\n",
       "        [[0., 0., 0.],\n",
       "         [0., 0., 0.]],\n",
       "\n",
       "        [[0., 0., 0.],\n",
       "         [0., 0., 0.]]],\n",
       "\n",
       "\n",
       "       [[[0., 0., 0.],\n",
       "         [0., 0., 0.]],\n",
       "\n",
       "        [[0., 0., 0.],\n",
       "         [0., 0., 0.]],\n",
       "\n",
       "        [[0., 0., 0.],\n",
       "         [0., 0., 0.]],\n",
       "\n",
       "        [[0., 0., 0.],\n",
       "         [0., 0., 0.]]]])"
      ]
     },
     "execution_count": 81,
     "metadata": {},
     "output_type": "execute_result"
    }
   ],
   "source": [
    "ar4"
   ]
  },
  {
   "cell_type": "code",
   "execution_count": 82,
   "id": "e7a89a9b-959f-4196-8c56-c2d093685ab3",
   "metadata": {},
   "outputs": [
    {
     "data": {
      "text/plain": [
       "4"
      ]
     },
     "execution_count": 82,
     "metadata": {},
     "output_type": "execute_result"
    }
   ],
   "source": [
    "ar4.ndim"
   ]
  },
  {
   "cell_type": "code",
   "execution_count": 83,
   "id": "e8c626cc-3c0f-4e81-b05f-07f0095381f7",
   "metadata": {},
   "outputs": [
    {
     "data": {
      "text/plain": [
       "array([1., 1., 1., 1.])"
      ]
     },
     "execution_count": 83,
     "metadata": {},
     "output_type": "execute_result"
    }
   ],
   "source": [
    "np.ones(4)"
   ]
  },
  {
   "cell_type": "code",
   "execution_count": 84,
   "id": "ecd906f4-9b73-4ab9-8e16-3d2679468d48",
   "metadata": {},
   "outputs": [
    {
     "data": {
      "text/plain": [
       "array([[1., 1., 1.],\n",
       "       [1., 1., 1.]])"
      ]
     },
     "execution_count": 84,
     "metadata": {},
     "output_type": "execute_result"
    }
   ],
   "source": [
    "np.ones((2,3))"
   ]
  },
  {
   "cell_type": "code",
   "execution_count": 86,
   "id": "b6773731-2766-4843-97d8-91a4eeb0d495",
   "metadata": {},
   "outputs": [],
   "source": [
    "on = np.ones((2,3,2))"
   ]
  },
  {
   "cell_type": "code",
   "execution_count": 87,
   "id": "d6010da8-c95e-4cec-9ccc-4419ee945f7f",
   "metadata": {},
   "outputs": [
    {
     "data": {
      "text/plain": [
       "array([[[1., 1.],\n",
       "        [1., 1.],\n",
       "        [1., 1.]],\n",
       "\n",
       "       [[1., 1.],\n",
       "        [1., 1.],\n",
       "        [1., 1.]]])"
      ]
     },
     "execution_count": 87,
     "metadata": {},
     "output_type": "execute_result"
    }
   ],
   "source": [
    "on"
   ]
  },
  {
   "cell_type": "code",
   "execution_count": 88,
   "id": "73b756c3-a40d-4b53-aff4-a930c4ea218f",
   "metadata": {},
   "outputs": [
    {
     "data": {
      "text/plain": [
       "array([[[6., 6.],\n",
       "        [6., 6.],\n",
       "        [6., 6.]],\n",
       "\n",
       "       [[6., 6.],\n",
       "        [6., 6.],\n",
       "        [6., 6.]]])"
      ]
     },
     "execution_count": 88,
     "metadata": {},
     "output_type": "execute_result"
    }
   ],
   "source": [
    "on+5"
   ]
  },
  {
   "cell_type": "code",
   "execution_count": 89,
   "id": "92dda838-5679-46b4-8ca3-fef52d21ab54",
   "metadata": {},
   "outputs": [
    {
     "data": {
      "text/plain": [
       "array([[[4., 4.],\n",
       "        [4., 4.],\n",
       "        [4., 4.]],\n",
       "\n",
       "       [[4., 4.],\n",
       "        [4., 4.],\n",
       "        [4., 4.]]])"
      ]
     },
     "execution_count": 89,
     "metadata": {},
     "output_type": "execute_result"
    }
   ],
   "source": [
    "on*4"
   ]
  },
  {
   "cell_type": "code",
   "execution_count": 90,
   "id": "e7ec16d1-37f1-4e94-940b-9e6ab06b2395",
   "metadata": {},
   "outputs": [
    {
     "data": {
      "text/plain": [
       "array([[4.66433352e-310, 0.00000000e+000, 0.00000000e+000,\n",
       "        0.00000000e+000, 0.00000000e+000],\n",
       "       [0.00000000e+000, 0.00000000e+000, 0.00000000e+000,\n",
       "        0.00000000e+000, 0.00000000e+000],\n",
       "       [0.00000000e+000, 0.00000000e+000, 0.00000000e+000,\n",
       "        0.00000000e+000, 0.00000000e+000]])"
      ]
     },
     "execution_count": 90,
     "metadata": {},
     "output_type": "execute_result"
    }
   ],
   "source": [
    "np.empty((3,5))"
   ]
  },
  {
   "cell_type": "code",
   "execution_count": 91,
   "id": "e1491308-d17c-41f2-80af-a5674bc46b57",
   "metadata": {},
   "outputs": [
    {
     "data": {
      "text/plain": [
       "array([[1., 0., 0., 0.],\n",
       "       [0., 1., 0., 0.],\n",
       "       [0., 0., 1., 0.],\n",
       "       [0., 0., 0., 1.]])"
      ]
     },
     "execution_count": 91,
     "metadata": {},
     "output_type": "execute_result"
    }
   ],
   "source": [
    "np.eye(4)"
   ]
  },
  {
   "cell_type": "code",
   "execution_count": 92,
   "id": "da476afb-545d-4e40-a66b-57299c8c5272",
   "metadata": {},
   "outputs": [
    {
     "data": {
      "text/plain": [
       "array([2.        , 2.10526316, 2.21052632, 2.31578947, 2.42105263,\n",
       "       2.52631579, 2.63157895, 2.73684211, 2.84210526, 2.94736842,\n",
       "       3.05263158, 3.15789474, 3.26315789, 3.36842105, 3.47368421,\n",
       "       3.57894737, 3.68421053, 3.78947368, 3.89473684, 4.        ])"
      ]
     },
     "execution_count": 92,
     "metadata": {},
     "output_type": "execute_result"
    }
   ],
   "source": [
    "np.linspace(2,4,20)"
   ]
  },
  {
   "cell_type": "code",
   "execution_count": 94,
   "id": "532a47f2-bf77-4109-b263-26525a82a0f3",
   "metadata": {},
   "outputs": [
    {
     "data": {
      "text/plain": [
       "array([ 4.        ,  5.0396842 ,  6.34960421,  8.        , 10.0793684 ,\n",
       "       12.69920842, 16.        , 20.1587368 , 25.39841683, 32.        ])"
      ]
     },
     "execution_count": 94,
     "metadata": {},
     "output_type": "execute_result"
    }
   ],
   "source": [
    "np.logspace(2,5,10, base = 2) # (starting number , end number , number of points , base(by default base = 10))"
   ]
  },
  {
   "cell_type": "code",
   "execution_count": 98,
   "id": "60e57f48-0379-4f98-98a3-bb8e527c425d",
   "metadata": {},
   "outputs": [],
   "source": [
    "arr = np.random.randn(3,4) # mean = 0 and std = 1"
   ]
  },
  {
   "cell_type": "code",
   "execution_count": 99,
   "id": "eef25fd5-5bb3-4ec1-97a1-761cb811c6e3",
   "metadata": {},
   "outputs": [],
   "source": [
    "import pandas as pd"
   ]
  },
  {
   "cell_type": "code",
   "execution_count": 100,
   "id": "043939ed-ddbc-4360-98e7-34bc824ead7d",
   "metadata": {},
   "outputs": [
    {
     "data": {
      "text/html": [
       "<div>\n",
       "<style scoped>\n",
       "    .dataframe tbody tr th:only-of-type {\n",
       "        vertical-align: middle;\n",
       "    }\n",
       "\n",
       "    .dataframe tbody tr th {\n",
       "        vertical-align: top;\n",
       "    }\n",
       "\n",
       "    .dataframe thead th {\n",
       "        text-align: right;\n",
       "    }\n",
       "</style>\n",
       "<table border=\"1\" class=\"dataframe\">\n",
       "  <thead>\n",
       "    <tr style=\"text-align: right;\">\n",
       "      <th></th>\n",
       "      <th>0</th>\n",
       "      <th>1</th>\n",
       "      <th>2</th>\n",
       "      <th>3</th>\n",
       "    </tr>\n",
       "  </thead>\n",
       "  <tbody>\n",
       "    <tr>\n",
       "      <th>0</th>\n",
       "      <td>1.280220</td>\n",
       "      <td>1.023355</td>\n",
       "      <td>-0.258049</td>\n",
       "      <td>-1.187899</td>\n",
       "    </tr>\n",
       "    <tr>\n",
       "      <th>1</th>\n",
       "      <td>0.638043</td>\n",
       "      <td>-0.974252</td>\n",
       "      <td>-0.562443</td>\n",
       "      <td>-1.525932</td>\n",
       "    </tr>\n",
       "    <tr>\n",
       "      <th>2</th>\n",
       "      <td>-0.802429</td>\n",
       "      <td>0.318518</td>\n",
       "      <td>0.820989</td>\n",
       "      <td>-0.465633</td>\n",
       "    </tr>\n",
       "  </tbody>\n",
       "</table>\n",
       "</div>"
      ],
      "text/plain": [
       "          0         1         2         3\n",
       "0  1.280220  1.023355 -0.258049 -1.187899\n",
       "1  0.638043 -0.974252 -0.562443 -1.525932\n",
       "2 -0.802429  0.318518  0.820989 -0.465633"
      ]
     },
     "execution_count": 100,
     "metadata": {},
     "output_type": "execute_result"
    }
   ],
   "source": [
    "pd.DataFrame(arr)"
   ]
  },
  {
   "cell_type": "code",
   "execution_count": 101,
   "id": "f6326567-68a7-4f78-b215-e1bf4a2ea7fc",
   "metadata": {},
   "outputs": [
    {
     "data": {
      "text/plain": [
       "array([[0.07801015, 0.90811948, 0.02674386, 0.9904638 ],\n",
       "       [0.90110002, 0.34945118, 0.83095346, 0.51284133],\n",
       "       [0.13765729, 0.21137092, 0.07595765, 0.90619127]])"
      ]
     },
     "execution_count": 101,
     "metadata": {},
     "output_type": "execute_result"
    }
   ],
   "source": [
    "np.random.rand(3,4)"
   ]
  },
  {
   "cell_type": "code",
   "execution_count": 103,
   "id": "534af5c7-dc3b-49e1-8fdf-4ded86bff230",
   "metadata": {},
   "outputs": [
    {
     "data": {
      "text/plain": [
       "array([[107,  12,  68,  71],\n",
       "       [ 45,  36,  85,  38],\n",
       "       [ 19,   6,  68,  58]])"
      ]
     },
     "execution_count": 103,
     "metadata": {},
     "output_type": "execute_result"
    }
   ],
   "source": [
    "np.random.randint(1,110,(3,4))"
   ]
  },
  {
   "cell_type": "code",
   "execution_count": 105,
   "id": "24f1ba74-68e5-4c2f-b9f1-a38f905d1701",
   "metadata": {},
   "outputs": [
    {
     "data": {
      "text/plain": [
       "array([[ 46, 102,  61, ...,  98, 105,  19],\n",
       "       [ 14, 101,  13, ...,  64,  13,  39],\n",
       "       [ 39,  80,  88, ...,  19,  16,  21],\n",
       "       ...,\n",
       "       [105,  40,  95, ...,  67,  98,  45],\n",
       "       [ 16,  75,  63, ...,  43,  31,  64],\n",
       "       [ 56,  62,  89, ...,  26,  31,  87]])"
      ]
     },
     "execution_count": 105,
     "metadata": {},
     "output_type": "execute_result"
    }
   ],
   "source": [
    "np.random.randint(1,110,(300,400))"
   ]
  },
  {
   "cell_type": "code",
   "execution_count": 107,
   "id": "f8ac7951-db52-4dd5-9ae6-40ce91a27d15",
   "metadata": {},
   "outputs": [],
   "source": [
    "pd.DataFrame(np.random.randint(1,110,(300,400))).to_csv('test.csv')"
   ]
  },
  {
   "cell_type": "code",
   "execution_count": 110,
   "id": "d6d6169d-3e62-47ae-9a8c-d128ac08a2f7",
   "metadata": {},
   "outputs": [],
   "source": [
    "arr1 = np.random.rand(3,4) "
   ]
  },
  {
   "cell_type": "code",
   "execution_count": 111,
   "id": "e8475a28-f268-4443-90b8-1403583727fa",
   "metadata": {},
   "outputs": [
    {
     "data": {
      "text/plain": [
       "array([[0.87335556, 0.01420035, 0.65425108, 0.2857332 ],\n",
       "       [0.3071576 , 0.00535125, 0.57494343, 0.79878499],\n",
       "       [0.1365873 , 0.33526255, 0.01581773, 0.36973326]])"
      ]
     },
     "execution_count": 111,
     "metadata": {},
     "output_type": "execute_result"
    }
   ],
   "source": [
    "arr1"
   ]
  },
  {
   "cell_type": "code",
   "execution_count": 114,
   "id": "1754bf41-fab8-404f-841f-d14771862f88",
   "metadata": {},
   "outputs": [],
   "source": [
    "arr2 = arr1.reshape(6,2)"
   ]
  },
  {
   "cell_type": "code",
   "execution_count": 115,
   "id": "7ee600c9-9ff3-4d54-a425-2546fc33b08b",
   "metadata": {},
   "outputs": [
    {
     "data": {
      "text/plain": [
       "array([[0.87335556, 0.01420035],\n",
       "       [0.65425108, 0.2857332 ],\n",
       "       [0.3071576 , 0.00535125],\n",
       "       [0.57494343, 0.79878499],\n",
       "       [0.1365873 , 0.33526255],\n",
       "       [0.01581773, 0.36973326]])"
      ]
     },
     "execution_count": 115,
     "metadata": {},
     "output_type": "execute_result"
    }
   ],
   "source": [
    "arr2"
   ]
  },
  {
   "cell_type": "code",
   "execution_count": 118,
   "id": "d9e12c8a-0256-42bc-b705-e81af2121906",
   "metadata": {},
   "outputs": [
    {
     "data": {
      "text/plain": [
       "0.285733202830564"
      ]
     },
     "execution_count": 118,
     "metadata": {},
     "output_type": "execute_result"
    }
   ],
   "source": [
    "arr2[1][1]"
   ]
  },
  {
   "cell_type": "code",
   "execution_count": 121,
   "id": "eb127534-a9cf-40b0-9a2b-4021c9035068",
   "metadata": {},
   "outputs": [
    {
     "data": {
      "text/plain": [
       "array([0.00535125, 0.79878499, 0.33526255])"
      ]
     },
     "execution_count": 121,
     "metadata": {},
     "output_type": "execute_result"
    }
   ],
   "source": [
    "arr2[2:5,1]"
   ]
  },
  {
   "cell_type": "code",
   "execution_count": 123,
   "id": "ff288126-3e6e-49c1-8e86-17b4d18d729c",
   "metadata": {},
   "outputs": [],
   "source": [
    "arr3 = np.random.randint(1,100,(5,5))"
   ]
  },
  {
   "cell_type": "code",
   "execution_count": 124,
   "id": "d0d03d7d-04e8-4905-94b6-285fe2737a60",
   "metadata": {},
   "outputs": [
    {
     "data": {
      "text/plain": [
       "array([[15, 68,  8, 62, 58],\n",
       "       [46, 25, 31, 74, 72],\n",
       "       [25,  1, 67, 59,  8],\n",
       "       [ 4, 63, 37, 47, 15],\n",
       "       [32, 41, 76, 43, 76]])"
      ]
     },
     "execution_count": 124,
     "metadata": {},
     "output_type": "execute_result"
    }
   ],
   "source": [
    "arr3"
   ]
  },
  {
   "cell_type": "code",
   "execution_count": 127,
   "id": "f0cb8466-f09c-44f0-b897-d4d3672bdbf1",
   "metadata": {},
   "outputs": [
    {
     "data": {
      "text/plain": [
       "array([68, 62, 58, 74, 72, 67, 59, 63, 76, 76])"
      ]
     },
     "execution_count": 127,
     "metadata": {},
     "output_type": "execute_result"
    }
   ],
   "source": [
    "arr3[arr3>50]"
   ]
  },
  {
   "cell_type": "code",
   "execution_count": 128,
   "id": "4b2f6efa-7460-4c73-9442-f9e2300bd1b6",
   "metadata": {},
   "outputs": [
    {
     "data": {
      "text/plain": [
       "array([[15, 68,  8, 62, 58],\n",
       "       [46, 25, 31, 74, 72],\n",
       "       [25,  1, 67, 59,  8],\n",
       "       [ 4, 63, 37, 47, 15],\n",
       "       [32, 41, 76, 43, 76]])"
      ]
     },
     "execution_count": 128,
     "metadata": {},
     "output_type": "execute_result"
    }
   ],
   "source": [
    "arr3"
   ]
  },
  {
   "cell_type": "code",
   "execution_count": 130,
   "id": "b51f1ec3-2ba8-4458-b2f6-efe8edfc59f7",
   "metadata": {},
   "outputs": [
    {
     "data": {
      "text/plain": [
       "array([[ 1, 67],\n",
       "       [63, 37]])"
      ]
     },
     "execution_count": 130,
     "metadata": {},
     "output_type": "execute_result"
    }
   ],
   "source": [
    "arr3[2:4,[1,2]]"
   ]
  },
  {
   "cell_type": "code",
   "execution_count": 132,
   "id": "cf0461bf-ce30-4886-81bf-5139a8cb283c",
   "metadata": {},
   "outputs": [],
   "source": [
    "arr3[0][0] = 5000"
   ]
  },
  {
   "cell_type": "code",
   "execution_count": 133,
   "id": "643799a5-06c3-46c0-8e11-57b68e7d4846",
   "metadata": {},
   "outputs": [
    {
     "data": {
      "text/plain": [
       "array([[5000,   68,    8,   62,   58],\n",
       "       [  46,   25,   31,   74,   72],\n",
       "       [  25,    1,   67,   59,    8],\n",
       "       [   4,   63,   37,   47,   15],\n",
       "       [  32,   41,   76,   43,   76]])"
      ]
     },
     "execution_count": 133,
     "metadata": {},
     "output_type": "execute_result"
    }
   ],
   "source": [
    "arr3"
   ]
  },
  {
   "cell_type": "code",
   "execution_count": 135,
   "id": "c8850e1f-b369-488a-b27c-179906fcdcf4",
   "metadata": {},
   "outputs": [],
   "source": [
    "arr4 = np.random.randint(1,3,(3,3))\n",
    "arr5 = np.random.randint(1,3,(3,3))"
   ]
  },
  {
   "cell_type": "code",
   "execution_count": 136,
   "id": "7d7528c4-9239-42b9-9bd4-d76432870630",
   "metadata": {},
   "outputs": [
    {
     "data": {
      "text/plain": [
       "array([[2, 2, 1],\n",
       "       [1, 1, 2],\n",
       "       [2, 1, 1]])"
      ]
     },
     "execution_count": 136,
     "metadata": {},
     "output_type": "execute_result"
    }
   ],
   "source": [
    "arr4"
   ]
  },
  {
   "cell_type": "code",
   "execution_count": 137,
   "id": "f905df7b-3688-4e49-9701-346abf143ef3",
   "metadata": {},
   "outputs": [
    {
     "data": {
      "text/plain": [
       "array([[2, 2, 2],\n",
       "       [1, 2, 2],\n",
       "       [1, 1, 1]])"
      ]
     },
     "execution_count": 137,
     "metadata": {},
     "output_type": "execute_result"
    }
   ],
   "source": [
    "arr5"
   ]
  },
  {
   "cell_type": "code",
   "execution_count": 138,
   "id": "3be937cd-ee0d-4e14-a244-8b8165acb02e",
   "metadata": {},
   "outputs": [
    {
     "data": {
      "text/plain": [
       "array([[4, 4, 3],\n",
       "       [2, 3, 4],\n",
       "       [3, 2, 2]])"
      ]
     },
     "execution_count": 138,
     "metadata": {},
     "output_type": "execute_result"
    }
   ],
   "source": [
    "arr4+arr5"
   ]
  },
  {
   "cell_type": "code",
   "execution_count": 139,
   "id": "37ab17db-d50f-4b98-acc5-11a129be581d",
   "metadata": {},
   "outputs": [
    {
     "data": {
      "text/plain": [
       "array([[4, 4, 2],\n",
       "       [1, 2, 4],\n",
       "       [2, 1, 1]])"
      ]
     },
     "execution_count": 139,
     "metadata": {},
     "output_type": "execute_result"
    }
   ],
   "source": [
    "arr4*arr5"
   ]
  },
  {
   "cell_type": "code",
   "execution_count": 140,
   "id": "c4c62920-e827-46e7-97d1-fc51699df60e",
   "metadata": {},
   "outputs": [
    {
     "data": {
      "text/plain": [
       "array([[ 0,  0, -1],\n",
       "       [ 0, -1,  0],\n",
       "       [ 1,  0,  0]])"
      ]
     },
     "execution_count": 140,
     "metadata": {},
     "output_type": "execute_result"
    }
   ],
   "source": [
    "arr4-arr5"
   ]
  },
  {
   "cell_type": "code",
   "execution_count": 141,
   "id": "f1960fa3-952d-41a8-923e-6f4988e976f0",
   "metadata": {},
   "outputs": [
    {
     "data": {
      "text/plain": [
       "array([[1. , 1. , 0.5],\n",
       "       [1. , 0.5, 1. ],\n",
       "       [2. , 1. , 1. ]])"
      ]
     },
     "execution_count": 141,
     "metadata": {},
     "output_type": "execute_result"
    }
   ],
   "source": [
    "arr4/arr5"
   ]
  },
  {
   "cell_type": "code",
   "execution_count": 142,
   "id": "6c423718-0ef2-4d9e-bfe1-1b620287587d",
   "metadata": {},
   "outputs": [
    {
     "data": {
      "text/plain": [
       "array([[7, 9, 9],\n",
       "       [5, 6, 6],\n",
       "       [6, 7, 7]])"
      ]
     },
     "execution_count": 142,
     "metadata": {},
     "output_type": "execute_result"
    }
   ],
   "source": [
    "arr4@arr5  # @ is doint matrix multiplication"
   ]
  },
  {
   "cell_type": "code",
   "execution_count": 143,
   "id": "6fe1ee71-750e-4b36-90ab-5a409c51816b",
   "metadata": {},
   "outputs": [
    {
     "name": "stderr",
     "output_type": "stream",
     "text": [
      "/tmp/ipykernel_147/1674986024.py:1: RuntimeWarning: divide by zero encountered in divide\n",
      "  arr4/0\n"
     ]
    },
    {
     "data": {
      "text/plain": [
       "array([[inf, inf, inf],\n",
       "       [inf, inf, inf],\n",
       "       [inf, inf, inf]])"
      ]
     },
     "execution_count": 143,
     "metadata": {},
     "output_type": "execute_result"
    }
   ],
   "source": [
    "arr4/0"
   ]
  },
  {
   "cell_type": "code",
   "execution_count": 144,
   "id": "8a7e1bfb-3c3c-4b98-bd81-0a125d53fd7a",
   "metadata": {},
   "outputs": [
    {
     "data": {
      "text/plain": [
       "array([[2, 2, 1],\n",
       "       [1, 1, 2],\n",
       "       [2, 1, 1]])"
      ]
     },
     "execution_count": 144,
     "metadata": {},
     "output_type": "execute_result"
    }
   ],
   "source": [
    "arr4"
   ]
  },
  {
   "cell_type": "code",
   "execution_count": 145,
   "id": "60f7d765-151a-4669-988b-5000391b25ef",
   "metadata": {},
   "outputs": [
    {
     "data": {
      "text/plain": [
       "array([[102, 102, 101],\n",
       "       [101, 101, 102],\n",
       "       [102, 101, 101]])"
      ]
     },
     "execution_count": 145,
     "metadata": {},
     "output_type": "execute_result"
    }
   ],
   "source": [
    "arr4+100"
   ]
  },
  {
   "cell_type": "code",
   "execution_count": 146,
   "id": "c1f3ece4-18f8-49f7-9655-ea13d5a4bfc8",
   "metadata": {},
   "outputs": [
    {
     "data": {
      "text/plain": [
       "array([[4, 4, 1],\n",
       "       [1, 1, 4],\n",
       "       [4, 1, 1]])"
      ]
     },
     "execution_count": 146,
     "metadata": {},
     "output_type": "execute_result"
    }
   ],
   "source": [
    "arr4**2"
   ]
  },
  {
   "cell_type": "code",
   "execution_count": 147,
   "id": "b990f3c0-90f7-40e8-89d1-88c99b10bd9c",
   "metadata": {},
   "outputs": [],
   "source": [
    "# Numpy - Broadcasting"
   ]
  },
  {
   "cell_type": "code",
   "execution_count": 149,
   "id": "6aea397e-bb05-4dec-a8e3-fa46e90ee3bf",
   "metadata": {},
   "outputs": [],
   "source": [
    "arr = np.zeros((4,4))"
   ]
  },
  {
   "cell_type": "code",
   "execution_count": 150,
   "id": "18760e78-b6d2-402a-b280-dc2b43da2e10",
   "metadata": {},
   "outputs": [
    {
     "data": {
      "text/plain": [
       "array([[0., 0., 0., 0.],\n",
       "       [0., 0., 0., 0.],\n",
       "       [0., 0., 0., 0.],\n",
       "       [0., 0., 0., 0.]])"
      ]
     },
     "execution_count": 150,
     "metadata": {},
     "output_type": "execute_result"
    }
   ],
   "source": [
    "arr"
   ]
  },
  {
   "cell_type": "code",
   "execution_count": 151,
   "id": "dbde2ab7-359d-4bc1-aec4-ebc3196a3ecf",
   "metadata": {},
   "outputs": [],
   "source": [
    "row = np.array([1,2,3,4])"
   ]
  },
  {
   "cell_type": "code",
   "execution_count": 152,
   "id": "d56189ec-9845-4dca-8518-e94ec935c015",
   "metadata": {},
   "outputs": [
    {
     "data": {
      "text/plain": [
       "array([1, 2, 3, 4])"
      ]
     },
     "execution_count": 152,
     "metadata": {},
     "output_type": "execute_result"
    }
   ],
   "source": [
    "row"
   ]
  },
  {
   "cell_type": "code",
   "execution_count": 153,
   "id": "5b997a31-535d-4577-a44e-fb4d6699e8df",
   "metadata": {},
   "outputs": [
    {
     "data": {
      "text/plain": [
       "array([[1., 2., 3., 4.],\n",
       "       [1., 2., 3., 4.],\n",
       "       [1., 2., 3., 4.],\n",
       "       [1., 2., 3., 4.]])"
      ]
     },
     "execution_count": 153,
     "metadata": {},
     "output_type": "execute_result"
    }
   ],
   "source": [
    "arr +row"
   ]
  },
  {
   "cell_type": "code",
   "execution_count": 154,
   "id": "4eac85c6-cc07-4c2d-9cee-2f7bb9113988",
   "metadata": {},
   "outputs": [
    {
     "data": {
      "text/plain": [
       "array([1, 2, 3, 4])"
      ]
     },
     "execution_count": 154,
     "metadata": {},
     "output_type": "execute_result"
    }
   ],
   "source": [
    "row.T"
   ]
  },
  {
   "cell_type": "code",
   "execution_count": 155,
   "id": "7f2b8518-a38a-49f5-89c5-49526158fb27",
   "metadata": {},
   "outputs": [],
   "source": [
    "col = np.array([[1,2,3,4]])"
   ]
  },
  {
   "cell_type": "code",
   "execution_count": 156,
   "id": "5d042008-c337-4746-a845-6bc31f979f7b",
   "metadata": {},
   "outputs": [
    {
     "data": {
      "text/plain": [
       "array([[1],\n",
       "       [2],\n",
       "       [3],\n",
       "       [4]])"
      ]
     },
     "execution_count": 156,
     "metadata": {},
     "output_type": "execute_result"
    }
   ],
   "source": [
    "col.T"
   ]
  },
  {
   "cell_type": "code",
   "execution_count": 157,
   "id": "d75d93ef-d1ad-4ea8-a5f7-ff691ba92c74",
   "metadata": {},
   "outputs": [
    {
     "data": {
      "text/plain": [
       "array([[1., 1., 1., 1.],\n",
       "       [2., 2., 2., 2.],\n",
       "       [3., 3., 3., 3.],\n",
       "       [4., 4., 4., 4.]])"
      ]
     },
     "execution_count": 157,
     "metadata": {},
     "output_type": "execute_result"
    }
   ],
   "source": [
    "col.T + arr"
   ]
  },
  {
   "cell_type": "code",
   "execution_count": 158,
   "id": "31e2ec25-ee8a-4aa9-8d5f-3b8cec8436b1",
   "metadata": {},
   "outputs": [
    {
     "data": {
      "text/plain": [
       "array([[0., 0., 0., 0.],\n",
       "       [0., 0., 0., 0.],\n",
       "       [0., 0., 0., 0.],\n",
       "       [0., 0., 0., 0.]])"
      ]
     },
     "execution_count": 158,
     "metadata": {},
     "output_type": "execute_result"
    }
   ],
   "source": [
    "arr"
   ]
  },
  {
   "cell_type": "code",
   "execution_count": 163,
   "id": "0be23903-4bdd-4e32-9bb5-4210899522f5",
   "metadata": {},
   "outputs": [],
   "source": [
    "arr1=np.random.randint(1,4,(3,4))"
   ]
  },
  {
   "cell_type": "code",
   "execution_count": 164,
   "id": "a5c89ffe-69d0-4d47-97ed-ec65e180326a",
   "metadata": {},
   "outputs": [
    {
     "data": {
      "text/plain": [
       "array([[2, 1, 3, 1],\n",
       "       [3, 1, 1, 3],\n",
       "       [3, 2, 2, 1]])"
      ]
     },
     "execution_count": 164,
     "metadata": {},
     "output_type": "execute_result"
    }
   ],
   "source": [
    "arr1"
   ]
  },
  {
   "cell_type": "code",
   "execution_count": 165,
   "id": "90c4aa6e-ebeb-4900-a553-69c79d6ae31b",
   "metadata": {},
   "outputs": [
    {
     "data": {
      "text/plain": [
       "array([[1.41421356, 1.        , 1.73205081, 1.        ],\n",
       "       [1.73205081, 1.        , 1.        , 1.73205081],\n",
       "       [1.73205081, 1.41421356, 1.41421356, 1.        ]])"
      ]
     },
     "execution_count": 165,
     "metadata": {},
     "output_type": "execute_result"
    }
   ],
   "source": [
    "np.sqrt(arr1)"
   ]
  },
  {
   "cell_type": "code",
   "execution_count": 167,
   "id": "9c62cc57-7967-49eb-bab6-02ef342f9deb",
   "metadata": {},
   "outputs": [
    {
     "data": {
      "text/plain": [
       "array([[ 7.3890561 ,  2.71828183, 20.08553692,  2.71828183],\n",
       "       [20.08553692,  2.71828183,  2.71828183, 20.08553692],\n",
       "       [20.08553692,  7.3890561 ,  7.3890561 ,  2.71828183]])"
      ]
     },
     "execution_count": 167,
     "metadata": {},
     "output_type": "execute_result"
    }
   ],
   "source": [
    "np.exp(arr1)"
   ]
  },
  {
   "cell_type": "code",
   "execution_count": 168,
   "id": "8bfca005-d894-4930-9d19-4e4c76a57816",
   "metadata": {},
   "outputs": [
    {
     "data": {
      "text/plain": [
       "array([[0.30103   , 0.        , 0.47712125, 0.        ],\n",
       "       [0.47712125, 0.        , 0.        , 0.47712125],\n",
       "       [0.47712125, 0.30103   , 0.30103   , 0.        ]])"
      ]
     },
     "execution_count": 168,
     "metadata": {},
     "output_type": "execute_result"
    }
   ],
   "source": [
    "np.log10(arr1)"
   ]
  },
  {
   "cell_type": "code",
   "execution_count": null,
   "id": "57434a1b-ff44-4ae2-accc-306d2ad8454d",
   "metadata": {},
   "outputs": [],
   "source": []
  }
 ],
 "metadata": {
  "kernelspec": {
   "display_name": "Python 3 (ipykernel)",
   "language": "python",
   "name": "python3"
  },
  "language_info": {
   "codemirror_mode": {
    "name": "ipython",
    "version": 3
   },
   "file_extension": ".py",
   "mimetype": "text/x-python",
   "name": "python",
   "nbconvert_exporter": "python",
   "pygments_lexer": "ipython3",
   "version": "3.10.6"
  }
 },
 "nbformat": 4,
 "nbformat_minor": 5
}
